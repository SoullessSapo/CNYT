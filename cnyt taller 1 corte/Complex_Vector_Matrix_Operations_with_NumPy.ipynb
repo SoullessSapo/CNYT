{
 "cells": [
  {
   "cell_type": "markdown",
   "id": "a07bd584",
   "metadata": {},
   "source": [
    "# Theory of Complex Vector Spaces\n",
    "Complex vector spaces extend the idea of real vector spaces by allowing vectors to have complex numbers as their components. In these spaces, vectors can be added together and multiplied by complex scalars to produce new vectors. Key operations in complex vector spaces include vector addition, scalar multiplication, vector negation, and complex conjugation."
   ]
  },
  {
   "cell_type": "markdown",
   "id": "f43fc972-23ab-4d81-aa26-c51325dac8f3",
   "metadata": {},
   "source": [
    "# Creating complex column vectors"
   ]
  },
  {
   "cell_type": "code",
   "execution_count": null,
   "id": "029f08ba-1cdc-4928-9631-f62c51ab7aa5",
   "metadata": {},
   "outputs": [],
   "source": [
    "import numpy as np\n",
    "\n",
    "# Define a 2x2 square matrix\n",
    "matrix = np.array([[2, 3],\n",
    "                   [1, 4]])\n",
    "\n",
    "# Define a vector of size 2\n",
    "vector = np.array([5, 6])\n",
    "\n",
    "# Multiply the matrix by the vector\n",
    "result = np.dot(matrix, vector)\n",
    "\n",
    "# Display the result\n",
    "print(\"Matrix:\\n\", matrix)\n",
    "print(\"\\nVector:\\n\", vector)\n",
    "print(\"\\nResult of multiplication:\\n\", result)\n"
   ]
  },
  {
   "cell_type": "markdown",
   "id": "975c2284",
   "metadata": {},
   "source": [
    "## Manipulating Complex Column Vectors using NumPy\n",
    "Here we demonstrate how to manipulate complex column vectors using NumPy, including operations like sum, negation, multiplication by a scalar, transpose, adjunct, and conjugate."
   ]
  },
  {
   "cell_type": "code",
   "execution_count": null,
   "id": "e8058abe",
   "metadata": {},
   "outputs": [],
   "source": [
    "\n",
    "import numpy as np\n",
    "\n",
    "# Define two complex column vectors\n",
    "v1 = np.array([[2+3j], [5-4j], [1+1j]])\n",
    "v2 = np.array([[1-1j], [3+2j], [4-4j]])\n",
    "\n",
    "# Sum\n",
    "sum_v = v1 + v2\n",
    "\n",
    "# Negation\n",
    "neg_v1 = -v1\n",
    "\n",
    "# Multiplication by a scalar\n",
    "scalar = 2 + 1j\n",
    "mult_v1 = v1 * scalar\n",
    "\n",
    "# Transpose\n",
    "transpose_v1 = v1.T\n",
    "\n",
    "# Adjunct (Conjugate transpose)\n",
    "adjunct_v1 = v1.T.conj()\n",
    "\n",
    "# Conjugate\n",
    "conjugate_v1 = np.conjugate(v1)\n",
    "\n",
    "(sum_v, neg_v1, mult_v1, transpose_v1, adjunct_v1, conjugate_v1)\n"
   ]
  },
  {
   "cell_type": "code",
   "execution_count": 1,
   "id": "6df8266b",
   "metadata": {},
   "outputs": [
    {
     "name": "stdout",
     "output_type": "stream",
     "text": [
      "Defaulting to user installation because normal site-packages is not writeable\n",
      "Requirement already satisfied: numpy in c:\\users\\esteban.valencia-c\\appdata\\roaming\\python\\python311\\site-packages (2.1.0)\n",
      "Note: you may need to restart the kernel to use updated packages.\n"
     ]
    },
    {
     "name": "stderr",
     "output_type": "stream",
     "text": [
      "DEPRECATION: Loading egg at c:\\program files\\python311\\lib\\site-packages\\vboxapi-1.0-py3.11.egg is deprecated. pip 24.3 will enforce this behaviour change. A possible replacement is to use pip for package installation. Discussion can be found at https://github.com/pypa/pip/issues/12330\n"
     ]
    }
   ],
   "source": [
    "pip install numpy"
   ]
  },
  {
   "cell_type": "markdown",
   "id": "995ae5fc",
   "metadata": {},
   "source": [
    "# Theory of Vector Spaces using Matrices\n",
    "In the context of matrices, vector spaces can be defined where each vector is a matrix of a particular size. Operations on these matrix-vector spaces include matrix addition, scalar multiplication, matrix negation, transpose, adjunct, and conjugate. In this section, we focus on square matrices of size 3x3."
   ]
  },
  {
   "cell_type": "markdown",
   "id": "9385c1f0",
   "metadata": {},
   "source": [
    "## Manipulating Square Matrices using NumPy\n",
    "Examples of how to manipulate 3x3 square matrices using NumPy, showing operations such as sum, negation, multiplication by a scalar, conjugate, transpose, and adjunct."
   ]
  },
  {
   "cell_type": "code",
   "execution_count": null,
   "id": "b81ecc57",
   "metadata": {},
   "outputs": [],
   "source": [
    "\n",
    "# Define two 3x3 complex matrices\n",
    "m1 = np.array([[2+3j, 4-1j, 0], \n",
    "               [1+1j, 3+3j, 5], \n",
    "               [4, 6-2j, 1-1j]])\n",
    "m2 = np.array([[1, 2+1j, 3-3j], \n",
    "               [0, -1+2j, 1-2j], \n",
    "               [3+3j, 2, 4+4j]])\n",
    "\n",
    "# Sum\n",
    "sum_m = m1 + m2\n",
    "\n",
    "# Negation\n",
    "neg_m1 = -m1\n",
    "\n",
    "# Multiplication by a scalar\n",
    "scalar = 0.5 + 0.5j\n",
    "mult_m1 = m1 * scalar\n",
    "\n",
    "# Conjugate\n",
    "conjugate_m1 = np.conjugate(m1)\n",
    "\n",
    "# Transpose\n",
    "transpose_m1 = m1.T\n",
    "\n",
    "# Adjunct (Conjugate transpose)\n",
    "adjunct_m1 = m1.T.conj()\n",
    "\n",
    "(sum_m, neg_m1, mult_m1, conjugate_m1, transpose_m1, adjunct_m1)\n"
   ]
  },
  {
   "cell_type": "markdown",
   "id": "ed909545-8a5c-4cca-85f7-48688b597598",
   "metadata": {},
   "source": [
    "## Checking the Dimension of a Matrix\n",
    "We can check the dimension of a matrix using the `.shape` attribute."
   ]
  },
  {
   "cell_type": "code",
   "execution_count": null,
   "id": "0930dc10-af6d-427f-bbcb-75bfaf051db5",
   "metadata": {},
   "outputs": [],
   "source": [
    "# Checking the dimension of matrix1\n",
    "m1.shape"
   ]
  },
  {
   "cell_type": "markdown",
   "id": "b3fe896b",
   "metadata": {},
   "source": [
    "## Action of a Matrix on a Vector\n",
    "Finally, examples of how to use Python to multiply a 3x3 square matrix by a 3x1 column vector."
   ]
  },
  {
   "cell_type": "code",
   "execution_count": null,
   "id": "e514d047",
   "metadata": {},
   "outputs": [],
   "source": [
    "\n",
    "# Multiplying a 3x3 matrix by a 3x1 vector\n",
    "result = np.dot(m1, v1)\n",
    "result\n"
   ]
  },
  {
   "cell_type": "markdown",
   "id": "5adf9d8a-af43-4074-ab1a-3cabdc4accff",
   "metadata": {},
   "source": [
    "# Exercises on Complex Vectors and Matrices with Concrete Cases\n",
    "\n",
    "This set of exercises focuses on operations with complex column vectors and complex square matrices, including concrete cases with vectors and matrices written in LaTeX format.\n",
    "\n",
    "## Complex Column Vector Operations\n",
    "\n",
    "### Exercise 1: Sum of Two Complex Vectors\n",
    "Given two complex vectors \n",
    "$ v1 = \\begin{bmatrix} 1 + 2i \\\\ 3 - i \\end{bmatrix} $ \n",
    "and \n",
    "$ v2 = \\begin{bmatrix} 2 - i \\\\ 4 + 2i \\end{bmatrix} $, \n",
    "find their sum.\n",
    "\n",
    "### Exercise 2: Negation of a Complex Vector\n",
    "Given a complex vector \n",
    "$ v = \\begin{bmatrix} 2 + 3i \\\\ 1 - 2i \\end{bmatrix} $, \n",
    "find its negation.\n",
    "\n",
    "### Exercise 3: Multiplication of a Complex Vector by a Scalar\n",
    "Multiply the complex vector \n",
    "$ v = \\begin{bmatrix} 1 - i \\\\ 2 + 2i \\end{bmatrix} $ \n",
    "by the complex scalar $$ 3 + i $$.\n",
    "\n",
    "### Exercise 4: Transpose of a Complex Vector\n",
    "Find the transpose of the complex vector \n",
    "$ v = \\begin{bmatrix} 2 - i \\\\ 3 + 4i \\end{bmatrix} $.\n",
    "\n",
    "### Exercise 5: Conjugate of a Complex Vector\n",
    "Compute the conjugate of the complex vector \n",
    "$ v = \\begin{bmatrix} 1 + i \\\\ 2 - 3i \\end{bmatrix} $.\n",
    "\n",
    "### Exercise 6: Adjunct (Conjugate Transpose) of a Complex Vector\n",
    "Find the adjunct (or conjugate transpose) of the complex vector \n",
    "$ v = \\begin{bmatrix} 1 - 2i \\\\ 3 + i \\end{bmatrix} $.\n",
    "\n",
    "## Complex Square Matrix Operations\n",
    "\n",
    "### Exercise 7: Sum of Two Complex Matrices\n",
    "Given two complex matrices \n",
    "$ m1 = \\begin{bmatrix} 1 + i & 2 - i \\\\ 3 + 2i & 4 \\end{bmatrix} $\n",
    "and \n",
    "$ m2 = \\begin{bmatrix} 2 - 3i & 1 \\\\ i & 2 + 2i \\end{bmatrix} $, \n",
    "calculate their sum.\n",
    "\n",
    "### Exercise 8: Negation of a Complex Matrix\n",
    "Find the negation of the complex matrix \n",
    "$ m = \\begin{bmatrix} 2 + i & 3 \\\\ 1 - i & 2 + 2i \\end{bmatrix} $.\n",
    "\n",
    "### Exercise 9: Multiplication of a Complex Matrix by a Scalar\n",
    "Multiply the complex matrix \n",
    "$ m = \\begin{bmatrix} 1 - i & 2 \\\\ 3 + i & 4 - 2i \\end{bmatrix} $ \n",
    "by the complex scalar $$ 2 + 3i $$.\n",
    "\n",
    "### Exercise 10: Conjugate of a Complex Matrix\n",
    "Compute the conjugate of the complex matrix \n",
    "$ m = \\begin{bmatrix} 1 + i & 2 \\\\ 3 - i & 4 + 2i \\end{bmatrix} $.\n",
    "\n",
    "### Exercise 11: Transpose of a Complex Matrix\n",
    "Find the transpose of the complex matrix \n",
    "$ m = \\begin{bmatrix} 1 - i & 2 + 2i \\\\ 3 & 4 - i \\end{bmatrix} $.\n",
    "\n",
    "### Exercise 12: Adjunct (Conjugate Transpose) of a Complex Matrix\n",
    "Calculate the adjunct (or conjugate transpose) of the complex matrix \n",
    "$ m = \\begin{bmatrix} 1 + 2i & 3 - i \\\\ 4 & 5 + i \\end{bmatrix} $.\n",
    "\n",
    "### Exercise 13: Checking the Dimensions of a Matrix\n",
    "Determine the dimensions of the complex matrix \n",
    "$ m = \\begin{bmatrix} 1 - i & 2 \\\\ 3 + 2i & 4 - i \\end{bmatrix} $.\n",
    "\n",
    "## Multiplication of Matrices and Vectors\n",
    "\n",
    "### Exercise 14: Multiplying a Complex Square Matrix by a Complex Column Vector\n",
    "Multiply the complex square matrix \n",
    "$ m = \\begin{bmatrix} 1 + i & 2 - i \\\\ 3 & 4 + i \\end{bmatrix} $ \n",
    "by the complex column vector \n",
    "$ v = \\begin{bmatrix} 2 - i \\\\ 1 + 3i \\end{bmatrix} $.\n",
    "\n",
    "## Instructions\n",
    "For each exercise, ensure to display both the input (vectors/matrices) and the result of the operation.Use NumPy for these exercises to practice handling complex numbers and matrix operations in Python.\n"
   ]
  },
  {
   "cell_type": "code",
   "execution_count": null,
   "id": "12949876-03e8-4f25-b566-517ed35ac1e1",
   "metadata": {},
   "outputs": [],
   "source": []
  },
  {
   "cell_type": "code",
   "execution_count": 2,
   "id": "068ed6be",
   "metadata": {},
   "outputs": [
    {
     "name": "stdout",
     "output_type": "stream",
     "text": [
      "Sum of v1 and v2: [3.+1.j 7.+1.j]\n",
      "Negation of v: [-2.-3.j -1.+2.j]\n",
      "Multiplication of v by scalar: [4.-2.j 4.+8.j]\n",
      "Transpose of v: [[2.-1.j 3.+4.j]]\n",
      "Conjugate of v: [1.-1.j 2.+3.j]\n",
      "Adjunct of v: [[1.+2.j 3.-1.j]]\n",
      "Sum of m1 and m2: [[3.-2.j 3.-1.j]\n",
      " [3.+3.j 6.+2.j]]\n",
      "Negation of m: [[-2.-1.j -3.-0.j]\n",
      " [-1.+1.j -2.-2.j]]\n",
      "Multiplication of m by scalar: [[ 5. +1.j  4. +6.j]\n",
      " [ 3.+11.j 14. +8.j]]\n",
      "Conjugate of m: [[1.-1.j 2.-0.j]\n",
      " [3.+1.j 4.-2.j]]\n",
      "Transpose of m: [[1.-1.j 3.+0.j]\n",
      " [2.+2.j 4.-1.j]]\n",
      "Adjunct of m: [[1.-2.j 4.-0.j]\n",
      " [3.+1.j 5.-1.j]]\n",
      "Dimensions of m: (2, 2)\n",
      "Multiplication of m by v: [8. +6.j 7.+10.j]\n"
     ]
    }
   ],
   "source": [
    "import numpy as np\n",
    "\n",
    "# Exercise 1: Sum of Two Complex Vectors\n",
    "v1 = np.array([1 + 2j, 3 - 1j])\n",
    "v2 = np.array([2 - 1j, 4 + 2j])\n",
    "sum_v = v1 + v2\n",
    "print(f\"Sum of v1 and v2: {sum_v}\")\n",
    "\n",
    "# Exercise 2: Negation of a Complex Vector\n",
    "v = np.array([2 + 3j, 1 - 2j])\n",
    "neg_v = -v\n",
    "print(f\"Negation of v: {neg_v}\")\n",
    "\n",
    "# Exercise 3: Multiplication of a Complex Vector by a Scalar\n",
    "v = np.array([1 - 1j, 2 + 2j])\n",
    "scalar = 3 + 1j\n",
    "mul_v = scalar * v\n",
    "print(f\"Multiplication of v by scalar: {mul_v}\")\n",
    "\n",
    "# Exercise 4: Transpose of a Complex Vector\n",
    "v = np.array([[2 - 1j], [3 + 4j]])\n",
    "transpose_v = v.transpose()\n",
    "print(f\"Transpose of v: {transpose_v}\")\n",
    "\n",
    "# Exercise 5: Conjugate of a Complex Vector\n",
    "v = np.array([1 + 1j, 2 - 3j])\n",
    "conjugate_v = np.conj(v)\n",
    "print(f\"Conjugate of v: {conjugate_v}\")\n",
    "\n",
    "# Exercise 6: Adjunct (Conjugate Transpose) of a Complex Vector\n",
    "v = np.array([[1 - 2j], [3 + 1j]])\n",
    "adjoint_v = v.conj().T\n",
    "print(f\"Adjunct of v: {adjoint_v}\")\n",
    "\n",
    "# Exercise 7: Sum of Two Complex Matrices\n",
    "m1 = np.array([[1 + 1j, 2 - 1j], [3 + 2j, 4]])\n",
    "m2 = np.array([[2 - 3j, 1], [1j, 2 + 2j]])\n",
    "sum_m = m1 + m2\n",
    "print(f\"Sum of m1 and m2: {sum_m}\")\n",
    "\n",
    "# Exercise 8: Negation of a Complex Matrix\n",
    "m = np.array([[2 + 1j, 3], [1 - 1j, 2 + 2j]])\n",
    "neg_m = -m\n",
    "print(f\"Negation of m: {neg_m}\")\n",
    "\n",
    "# Exercise 9: Multiplication of a Complex Matrix by a Scalar\n",
    "m = np.array([[1 - 1j, 2], [3 + 1j, 4 - 2j]])\n",
    "scalar = 2 + 3j\n",
    "mul_m = scalar * m\n",
    "print(f\"Multiplication of m by scalar: {mul_m}\")\n",
    "\n",
    "# Exercise 10: Conjugate of a Complex Matrix\n",
    "m = np.array([[1 + 1j, 2], [3 - 1j, 4 + 2j]])\n",
    "conjugate_m = np.conj(m)\n",
    "print(f\"Conjugate of m: {conjugate_m}\")\n",
    "\n",
    "# Exercise 11: Transpose of a Complex Matrix\n",
    "m = np.array([[1 - 1j, 2 + 2j], [3, 4 - 1j]])\n",
    "transpose_m = m.transpose()\n",
    "print(f\"Transpose of m: {transpose_m}\")\n",
    "\n",
    "# Exercise 12: Adjunct (Conjugate Transpose) of a Complex Matrix\n",
    "m = np.array([[1 + 2j, 3 - 1j], [4, 5 + 1j]])\n",
    "adjoint_m = m.conj().T\n",
    "print(f\"Adjunct of m: {adjoint_m}\")\n",
    "\n",
    "# Exercise 13: Checking the Dimensions of a Matrix\n",
    "m = np.array([[1 - 1j, 2], [3 + 2j, 4 - 1j]])\n",
    "dimensions_m = m.shape\n",
    "print(f\"Dimensions of m: {dimensions_m}\")\n",
    "\n",
    "# Exercise 14: Multiplying a Complex Square Matrix by a Complex Column Vector\n",
    "m = np.array([[1 + 1j, 2 - 1j], [3, 4 + 1j]])\n",
    "v = np.array([2 - 1j, 1 + 3j])\n",
    "mul_mv = np.dot(m, v)\n",
    "print(f\"Multiplication of m by v: {mul_mv}\")"
   ]
  }
 ],
 "metadata": {
  "kernelspec": {
   "display_name": "Python 3 (ipykernel)",
   "language": "python",
   "name": "python3"
  },
  "language_info": {
   "codemirror_mode": {
    "name": "ipython",
    "version": 3
   },
   "file_extension": ".py",
   "mimetype": "text/x-python",
   "name": "python",
   "nbconvert_exporter": "python",
   "pygments_lexer": "ipython3",
   "version": "3.11.6"
  }
 },
 "nbformat": 4,
 "nbformat_minor": 5
}
